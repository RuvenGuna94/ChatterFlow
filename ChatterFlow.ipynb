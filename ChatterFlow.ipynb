{
 "cells": [
  {
   "cell_type": "markdown",
   "metadata": {},
   "source": [
    "# **ChatterFlow: An AI Chatbot with Streamlit**  \n",
    "\n",
    "## **Introduction**  \n",
    "ChatterFlow is an intelligent chatbot powered by **OpenAI** and **Streamlit**, designed to provide an interactive and user-friendly experience. This chatbot leverages natural language processing (NLP) to generate human-like responses and can be easily customized for various use cases.  \n",
    "\n",
    "In this notebook, we will guide you through building a chatbot interface using Streamlit, allowing users to interact with the AI model seamlessly.  \n",
    "\n",
    "\n",
    "## **Why Streamlit?**  \n",
    "[Streamlit](https://streamlit.io/) is an open-source Python library that simplifies the creation of interactive web applications for machine learning and data science projects. It is widely used due to its ease of use and minimal coding requirements.  \n",
    "\n",
    "### **Key Features of Streamlit:**  \n",
    "- **Quick Prototyping:** Build interactive UIs with just a few lines of Python code.  \n",
    "- **Real-time Updates:** Automatically updates components as users interact with the app.  \n",
    "- **Simple Deployment:** Easily share and deploy applications with Streamlit Community Cloud or other hosting platforms.  \n",
    "- **Support for Machine Learning Models:** Ideal for showcasing AI and data science projects in a web-based format.  \n",
    "\n",
    "With Streamlit, you can create a chatbot UI that runs directly in a web browser, eliminating the need for complex frontend development.  \n",
    "\n",
    "## **Other Ways to Build a Chatbot UI**  \n",
    "While Streamlit is a great choice, there are other ways to build a chatbot interface depending on your needs:  \n",
    "\n",
    "1. **Gradio** – A simple and lightweight UI framework designed for AI applications.  \n",
    "2. **Flask/Django with HTML & JavaScript** – More customizable but requires backend and frontend development.  \n",
    "3. **React with FastAPI** – A modern, scalable approach for high-performance applications.  \n",
    "4. **Dash (Plotly)** – Best suited for data visualization and analytics-driven chatbots.  \n",
    "5. **Tkinter/PyQt** – Desktop-based GUI applications instead of web-based interfaces.  \n",
    "\n",
    "Each of these options comes with trade-offs in terms of complexity, performance, and ease of deployment. Streamlit, however, remains one of the fastest ways to get a chatbot up and running with minimal effort.  \n",
    "\n",
    "## **Getting Started**  \n",
    "In the next sections, we will:  \n",
    "✅ Install necessary dependencies  \n",
    "✅ Set up Streamlit  \n",
    "✅ Integrate OpenAI’s API  \n",
    "✅ Build an interactive chatbot interface  \n",
    "\n",
    "Let's dive in! 🚀  \n"
   ]
  },
  {
   "cell_type": "markdown",
   "metadata": {},
   "source": [
    "## Install necessary dependencies"
   ]
  },
  {
   "cell_type": "code",
   "execution_count": 2,
   "metadata": {},
   "outputs": [
    {
     "name": "stdout",
     "output_type": "stream",
     "text": [
      "Requirement already satisfied: python-dotenv in c:\\users\\ruven\\anaconda3\\envs\\ai_agent_311\\lib\\site-packages (from -r requirements.txt (line 1)) (1.0.1)\n",
      "Requirement already satisfied: openai in c:\\users\\ruven\\anaconda3\\envs\\ai_agent_311\\lib\\site-packages (from -r requirements.txt (line 2)) (1.60.2)\n",
      "Collecting streamlit (from -r requirements.txt (line 3))\n",
      "  Using cached streamlit-1.41.1-py2.py3-none-any.whl.metadata (8.5 kB)\n",
      "Requirement already satisfied: anyio<5,>=3.5.0 in c:\\users\\ruven\\anaconda3\\envs\\ai_agent_311\\lib\\site-packages (from openai->-r requirements.txt (line 2)) (4.8.0)\n",
      "Requirement already satisfied: distro<2,>=1.7.0 in c:\\users\\ruven\\anaconda3\\envs\\ai_agent_311\\lib\\site-packages (from openai->-r requirements.txt (line 2)) (1.9.0)\n",
      "Requirement already satisfied: httpx<1,>=0.23.0 in c:\\users\\ruven\\anaconda3\\envs\\ai_agent_311\\lib\\site-packages (from openai->-r requirements.txt (line 2)) (0.27.2)\n",
      "Requirement already satisfied: jiter<1,>=0.4.0 in c:\\users\\ruven\\anaconda3\\envs\\ai_agent_311\\lib\\site-packages (from openai->-r requirements.txt (line 2)) (0.8.2)\n",
      "Requirement already satisfied: pydantic<3,>=1.9.0 in c:\\users\\ruven\\anaconda3\\envs\\ai_agent_311\\lib\\site-packages (from openai->-r requirements.txt (line 2)) (2.10.6)\n",
      "Requirement already satisfied: sniffio in c:\\users\\ruven\\anaconda3\\envs\\ai_agent_311\\lib\\site-packages (from openai->-r requirements.txt (line 2)) (1.3.1)\n",
      "Requirement already satisfied: tqdm>4 in c:\\users\\ruven\\anaconda3\\envs\\ai_agent_311\\lib\\site-packages (from openai->-r requirements.txt (line 2)) (4.67.1)\n",
      "Requirement already satisfied: typing-extensions<5,>=4.11 in c:\\users\\ruven\\anaconda3\\envs\\ai_agent_311\\lib\\site-packages (from openai->-r requirements.txt (line 2)) (4.12.2)\n",
      "Collecting altair<6,>=4.0 (from streamlit->-r requirements.txt (line 3))\n",
      "  Downloading altair-5.5.0-py3-none-any.whl.metadata (11 kB)\n",
      "Requirement already satisfied: blinker<2,>=1.0.0 in c:\\users\\ruven\\anaconda3\\envs\\ai_agent_311\\lib\\site-packages (from streamlit->-r requirements.txt (line 3)) (1.9.0)\n",
      "Requirement already satisfied: cachetools<6,>=4.0 in c:\\users\\ruven\\anaconda3\\envs\\ai_agent_311\\lib\\site-packages (from streamlit->-r requirements.txt (line 3)) (5.5.1)\n",
      "Requirement already satisfied: click<9,>=7.0 in c:\\users\\ruven\\anaconda3\\envs\\ai_agent_311\\lib\\site-packages (from streamlit->-r requirements.txt (line 3)) (8.1.8)\n",
      "Requirement already satisfied: numpy<3,>=1.23 in c:\\users\\ruven\\anaconda3\\envs\\ai_agent_311\\lib\\site-packages (from streamlit->-r requirements.txt (line 3)) (1.26.4)\n",
      "Requirement already satisfied: packaging<25,>=20 in c:\\users\\ruven\\anaconda3\\envs\\ai_agent_311\\lib\\site-packages (from streamlit->-r requirements.txt (line 3)) (24.2)\n",
      "Requirement already satisfied: pandas<3,>=1.4.0 in c:\\users\\ruven\\anaconda3\\envs\\ai_agent_311\\lib\\site-packages (from streamlit->-r requirements.txt (line 3)) (2.2.3)\n",
      "Requirement already satisfied: pillow<12,>=7.1.0 in c:\\users\\ruven\\anaconda3\\envs\\ai_agent_311\\lib\\site-packages (from streamlit->-r requirements.txt (line 3)) (11.1.0)\n",
      "Requirement already satisfied: protobuf<6,>=3.20 in c:\\users\\ruven\\anaconda3\\envs\\ai_agent_311\\lib\\site-packages (from streamlit->-r requirements.txt (line 3)) (5.29.3)\n",
      "Requirement already satisfied: pyarrow>=7.0 in c:\\users\\ruven\\anaconda3\\envs\\ai_agent_311\\lib\\site-packages (from streamlit->-r requirements.txt (line 3)) (19.0.0)\n",
      "Requirement already satisfied: requests<3,>=2.27 in c:\\users\\ruven\\anaconda3\\envs\\ai_agent_311\\lib\\site-packages (from streamlit->-r requirements.txt (line 3)) (2.32.3)\n",
      "Requirement already satisfied: rich<14,>=10.14.0 in c:\\users\\ruven\\anaconda3\\envs\\ai_agent_311\\lib\\site-packages (from streamlit->-r requirements.txt (line 3)) (13.9.4)\n",
      "Requirement already satisfied: tenacity<10,>=8.1.0 in c:\\users\\ruven\\anaconda3\\envs\\ai_agent_311\\lib\\site-packages (from streamlit->-r requirements.txt (line 3)) (9.0.0)\n",
      "Collecting toml<2,>=0.10.1 (from streamlit->-r requirements.txt (line 3))\n",
      "  Downloading toml-0.10.2-py2.py3-none-any.whl.metadata (7.1 kB)\n",
      "Collecting watchdog<7,>=2.1.5 (from streamlit->-r requirements.txt (line 3))\n",
      "  Downloading watchdog-6.0.0-py3-none-win_amd64.whl.metadata (44 kB)\n",
      "Collecting gitpython!=3.1.19,<4,>=3.0.7 (from streamlit->-r requirements.txt (line 3))\n",
      "  Downloading GitPython-3.1.44-py3-none-any.whl.metadata (13 kB)\n",
      "Collecting pydeck<1,>=0.8.0b4 (from streamlit->-r requirements.txt (line 3))\n",
      "  Downloading pydeck-0.9.1-py2.py3-none-any.whl.metadata (4.1 kB)\n",
      "Requirement already satisfied: tornado<7,>=6.0.3 in c:\\users\\ruven\\anaconda3\\envs\\ai_agent_311\\lib\\site-packages (from streamlit->-r requirements.txt (line 3)) (6.4.2)\n",
      "Requirement already satisfied: jinja2 in c:\\users\\ruven\\anaconda3\\envs\\ai_agent_311\\lib\\site-packages (from altair<6,>=4.0->streamlit->-r requirements.txt (line 3)) (3.1.5)\n",
      "Requirement already satisfied: jsonschema>=3.0 in c:\\users\\ruven\\anaconda3\\envs\\ai_agent_311\\lib\\site-packages (from altair<6,>=4.0->streamlit->-r requirements.txt (line 3)) (4.23.0)\n",
      "Collecting narwhals>=1.14.2 (from altair<6,>=4.0->streamlit->-r requirements.txt (line 3))\n",
      "  Downloading narwhals-1.24.2-py3-none-any.whl.metadata (10 kB)\n",
      "Requirement already satisfied: idna>=2.8 in c:\\users\\ruven\\anaconda3\\envs\\ai_agent_311\\lib\\site-packages (from anyio<5,>=3.5.0->openai->-r requirements.txt (line 2)) (3.10)\n",
      "Requirement already satisfied: colorama in c:\\users\\ruven\\anaconda3\\envs\\ai_agent_311\\lib\\site-packages (from click<9,>=7.0->streamlit->-r requirements.txt (line 3)) (0.4.6)\n",
      "Collecting gitdb<5,>=4.0.1 (from gitpython!=3.1.19,<4,>=3.0.7->streamlit->-r requirements.txt (line 3))\n",
      "  Downloading gitdb-4.0.12-py3-none-any.whl.metadata (1.2 kB)\n",
      "Requirement already satisfied: certifi in c:\\users\\ruven\\anaconda3\\envs\\ai_agent_311\\lib\\site-packages (from httpx<1,>=0.23.0->openai->-r requirements.txt (line 2)) (2025.1.31)\n",
      "Requirement already satisfied: httpcore==1.* in c:\\users\\ruven\\anaconda3\\envs\\ai_agent_311\\lib\\site-packages (from httpx<1,>=0.23.0->openai->-r requirements.txt (line 2)) (1.0.7)\n",
      "Requirement already satisfied: h11<0.15,>=0.13 in c:\\users\\ruven\\anaconda3\\envs\\ai_agent_311\\lib\\site-packages (from httpcore==1.*->httpx<1,>=0.23.0->openai->-r requirements.txt (line 2)) (0.14.0)\n",
      "Requirement already satisfied: python-dateutil>=2.8.2 in c:\\users\\ruven\\anaconda3\\envs\\ai_agent_311\\lib\\site-packages (from pandas<3,>=1.4.0->streamlit->-r requirements.txt (line 3)) (2.9.0.post0)\n",
      "Requirement already satisfied: pytz>=2020.1 in c:\\users\\ruven\\anaconda3\\envs\\ai_agent_311\\lib\\site-packages (from pandas<3,>=1.4.0->streamlit->-r requirements.txt (line 3)) (2024.2)\n",
      "Requirement already satisfied: tzdata>=2022.7 in c:\\users\\ruven\\anaconda3\\envs\\ai_agent_311\\lib\\site-packages (from pandas<3,>=1.4.0->streamlit->-r requirements.txt (line 3)) (2025.1)\n",
      "Requirement already satisfied: annotated-types>=0.6.0 in c:\\users\\ruven\\anaconda3\\envs\\ai_agent_311\\lib\\site-packages (from pydantic<3,>=1.9.0->openai->-r requirements.txt (line 2)) (0.7.0)\n",
      "Requirement already satisfied: pydantic-core==2.27.2 in c:\\users\\ruven\\anaconda3\\envs\\ai_agent_311\\lib\\site-packages (from pydantic<3,>=1.9.0->openai->-r requirements.txt (line 2)) (2.27.2)\n",
      "Requirement already satisfied: charset-normalizer<4,>=2 in c:\\users\\ruven\\anaconda3\\envs\\ai_agent_311\\lib\\site-packages (from requests<3,>=2.27->streamlit->-r requirements.txt (line 3)) (3.4.1)\n",
      "Requirement already satisfied: urllib3<3,>=1.21.1 in c:\\users\\ruven\\anaconda3\\envs\\ai_agent_311\\lib\\site-packages (from requests<3,>=2.27->streamlit->-r requirements.txt (line 3)) (2.3.0)\n",
      "Requirement already satisfied: markdown-it-py>=2.2.0 in c:\\users\\ruven\\anaconda3\\envs\\ai_agent_311\\lib\\site-packages (from rich<14,>=10.14.0->streamlit->-r requirements.txt (line 3)) (3.0.0)\n",
      "Requirement already satisfied: pygments<3.0.0,>=2.13.0 in c:\\users\\ruven\\anaconda3\\envs\\ai_agent_311\\lib\\site-packages (from rich<14,>=10.14.0->streamlit->-r requirements.txt (line 3)) (2.19.1)\n",
      "Collecting smmap<6,>=3.0.1 (from gitdb<5,>=4.0.1->gitpython!=3.1.19,<4,>=3.0.7->streamlit->-r requirements.txt (line 3))\n",
      "  Downloading smmap-5.0.2-py3-none-any.whl.metadata (4.3 kB)\n",
      "Requirement already satisfied: MarkupSafe>=2.0 in c:\\users\\ruven\\anaconda3\\envs\\ai_agent_311\\lib\\site-packages (from jinja2->altair<6,>=4.0->streamlit->-r requirements.txt (line 3)) (3.0.2)\n",
      "Requirement already satisfied: attrs>=22.2.0 in c:\\users\\ruven\\anaconda3\\envs\\ai_agent_311\\lib\\site-packages (from jsonschema>=3.0->altair<6,>=4.0->streamlit->-r requirements.txt (line 3)) (25.1.0)\n",
      "Requirement already satisfied: jsonschema-specifications>=2023.03.6 in c:\\users\\ruven\\anaconda3\\envs\\ai_agent_311\\lib\\site-packages (from jsonschema>=3.0->altair<6,>=4.0->streamlit->-r requirements.txt (line 3)) (2024.10.1)\n",
      "Requirement already satisfied: referencing>=0.28.4 in c:\\users\\ruven\\anaconda3\\envs\\ai_agent_311\\lib\\site-packages (from jsonschema>=3.0->altair<6,>=4.0->streamlit->-r requirements.txt (line 3)) (0.36.2)\n",
      "Requirement already satisfied: rpds-py>=0.7.1 in c:\\users\\ruven\\anaconda3\\envs\\ai_agent_311\\lib\\site-packages (from jsonschema>=3.0->altair<6,>=4.0->streamlit->-r requirements.txt (line 3)) (0.22.3)\n",
      "Requirement already satisfied: mdurl~=0.1 in c:\\users\\ruven\\anaconda3\\envs\\ai_agent_311\\lib\\site-packages (from markdown-it-py>=2.2.0->rich<14,>=10.14.0->streamlit->-r requirements.txt (line 3)) (0.1.2)\n",
      "Requirement already satisfied: six>=1.5 in c:\\users\\ruven\\anaconda3\\envs\\ai_agent_311\\lib\\site-packages (from python-dateutil>=2.8.2->pandas<3,>=1.4.0->streamlit->-r requirements.txt (line 3)) (1.17.0)\n",
      "Downloading streamlit-1.41.1-py2.py3-none-any.whl (9.1 MB)\n",
      "   ---------------------------------------- 0.0/9.1 MB ? eta -:--:--\n",
      "   ---------- ----------------------------- 2.4/9.1 MB 12.2 MB/s eta 0:00:01\n",
      "   --------------------- ------------------ 5.0/9.1 MB 11.6 MB/s eta 0:00:01\n",
      "   -------------------------------- ------- 7.3/9.1 MB 11.9 MB/s eta 0:00:01\n",
      "   ---------------------------------------- 9.1/9.1 MB 11.6 MB/s eta 0:00:00\n",
      "Downloading altair-5.5.0-py3-none-any.whl (731 kB)\n",
      "   ---------------------------------------- 0.0/731.2 kB ? eta -:--:--\n",
      "   --------------------------------------- 731.2/731.2 kB 10.2 MB/s eta 0:00:00\n",
      "Downloading GitPython-3.1.44-py3-none-any.whl (207 kB)\n",
      "Downloading pydeck-0.9.1-py2.py3-none-any.whl (6.9 MB)\n",
      "   ---------------------------------------- 0.0/6.9 MB ? eta -:--:--\n",
      "   ------------- -------------------------- 2.4/6.9 MB 12.3 MB/s eta 0:00:01\n",
      "   ---------------------------- ----------- 5.0/6.9 MB 12.1 MB/s eta 0:00:01\n",
      "   ---------------------------------------- 6.9/6.9 MB 11.5 MB/s eta 0:00:00\n",
      "Downloading toml-0.10.2-py2.py3-none-any.whl (16 kB)\n",
      "Downloading watchdog-6.0.0-py3-none-win_amd64.whl (79 kB)\n",
      "Downloading gitdb-4.0.12-py3-none-any.whl (62 kB)\n",
      "Downloading narwhals-1.24.2-py3-none-any.whl (312 kB)\n",
      "Downloading smmap-5.0.2-py3-none-any.whl (24 kB)\n",
      "Installing collected packages: watchdog, toml, smmap, narwhals, pydeck, gitdb, gitpython, altair, streamlit\n",
      "Successfully installed altair-5.5.0 gitdb-4.0.12 gitpython-3.1.44 narwhals-1.24.2 pydeck-0.9.1 smmap-5.0.2 streamlit-1.41.1 toml-0.10.2 watchdog-6.0.0\n"
     ]
    }
   ],
   "source": [
    "!pip install -r \"requirements.txt\""
   ]
  },
  {
   "cell_type": "code",
   "execution_count": 3,
   "metadata": {},
   "outputs": [],
   "source": [
    "from openai import OpenAI\n",
    "import streamlit as st\n",
    "from dotenv import load_dotenv\n",
    "import os\n",
    "import shelve"
   ]
  },
  {
   "cell_type": "code",
   "execution_count": null,
   "metadata": {},
   "outputs": [],
   "source": []
  },
  {
   "cell_type": "code",
   "execution_count": null,
   "metadata": {},
   "outputs": [],
   "source": []
  },
  {
   "cell_type": "code",
   "execution_count": null,
   "metadata": {},
   "outputs": [],
   "source": []
  },
  {
   "cell_type": "code",
   "execution_count": null,
   "metadata": {},
   "outputs": [],
   "source": []
  },
  {
   "cell_type": "code",
   "execution_count": null,
   "metadata": {},
   "outputs": [],
   "source": []
  }
 ],
 "metadata": {
  "kernelspec": {
   "display_name": "AI_AGENT_311",
   "language": "python",
   "name": "python3"
  },
  "language_info": {
   "codemirror_mode": {
    "name": "ipython",
    "version": 3
   },
   "file_extension": ".py",
   "mimetype": "text/x-python",
   "name": "python",
   "nbconvert_exporter": "python",
   "pygments_lexer": "ipython3",
   "version": "3.11.11"
  }
 },
 "nbformat": 4,
 "nbformat_minor": 2
}
